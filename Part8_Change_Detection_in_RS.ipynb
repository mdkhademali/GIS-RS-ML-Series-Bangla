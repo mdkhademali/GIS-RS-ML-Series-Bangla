{
 "cells": [
  {
   "cell_type": "markdown",
   "id": "d129beff",
   "metadata": {},
   "source": [
    "**Md. Khadem Ali**  \n",
    "Student, Dept. of Geography & Environment  \n",
    "Shahid M. Mansur Ali College (Affiliated with National University of Bangladesh)  \n",
    "\n",
    "[Portfolio: www.khademali.com](http://www.khademali.com)"
   ]
  },
  {
   "cell_type": "markdown",
   "id": "1cc216f2",
   "metadata": {},
   "source": [
    "## পর্ব ৮: Change Detection in Remote Sensing\n",
    "\n",
    "এই নোটবুকে আমরা শিখব:\n",
    "1. Change detection কি এবং কেন প্রয়োজন\n",
    "2. Image differencing\n",
    "3. NDVI বা অন্যান্য indices ব্যবহার\n",
    "4. Visualization of changes"
   ]
  },
  {
   "cell_type": "markdown",
   "id": "1972abdc",
   "metadata": {},
   "source": [
    "## 1. Change Detection\n",
    "\n",
    "Remote sensing এ দুটি বা তার বেশি সময়ের ইমেজ ব্যবহার করে land cover বা vegetation পরিবর্তন শনাক্ত করা।  \n",
    "- উদাহরণ: বন কেটে দেওয়া, নগর সম্প্রসারণ, জলাশয় পরিবর্তন।"
   ]
  },
  {
   "cell_type": "markdown",
   "id": "a533a01b",
   "metadata": {},
   "source": [
    "## 2. Image Differencing\n",
    "\n",
    "দুটি সময়ের raster image থেকে pixel-wise difference বের করা।"
   ]
  },
  {
   "cell_type": "code",
   "execution_count": null,
   "id": "af724555",
   "metadata": {},
   "outputs": [],
   "source": [
    "import rasterio\n",
    "import numpy as np\n",
    "import matplotlib.pyplot as plt\n",
    "\n",
    "# দুইটি সময়ের raster\n",
    "raster1 = rasterio.open('data/ndvi/ndvi_20220101.tif')\n",
    "raster2 = rasterio.open('data/ndvi/ndvi_20221201.tif')\n",
    "\n",
    "ndvi1 = raster1.read(1)\n",
    "ndvi2 = raster2.read(1)\n",
    "\n",
    "# Pixel-wise difference\n",
    "ndvi_diff = ndvi2 - ndvi1\n",
    "\n",
    "# Plot difference\n",
    "plt.figure(figsize=(10,8))\n",
    "plt.imshow(ndvi_diff, cmap='RdYlGn')\n",
    "plt.colorbar(label='NDVI Change')\n",
    "plt.title('NDVI Change Detection')\n",
    "plt.show()"
   ]
  },
  {
   "cell_type": "markdown",
   "id": "f46d66f2",
   "metadata": {},
   "source": [
    "## 3. NDVI বা অন্যান্য indices ব্যবহার\n",
    "\n",
    "NDVI, NDBI ইত্যাদি index পরিবর্তনের জন্য ব্যবহার করা যায়।"
   ]
  },
  {
   "cell_type": "code",
   "execution_count": null,
   "id": "c482afcd",
   "metadata": {},
   "outputs": [],
   "source": [
    "# পরিবর্তনের জন্য threshold apply\n",
    "threshold = 0.1\n",
    "change_mask = np.abs(ndvi_diff) > threshold\n",
    "\n",
    "plt.figure(figsize=(10,8))\n",
    "plt.imshow(change_mask, cmap='gray')\n",
    "plt.title('Significant NDVI Change (>0.1)')\n",
    "plt.show()"
   ]
  },
  {
   "cell_type": "markdown",
   "id": "c4cf5ca7",
   "metadata": {},
   "source": [
    "## 4. Visualization of changes\n",
    "\n",
    "Changes overlay করে spatial context দেখা যায়।"
   ]
  },
  {
   "cell_type": "code",
   "execution_count": null,
   "id": "704a3df4",
   "metadata": {},
   "outputs": [],
   "source": [
    "import geopandas as gpd\n",
    "import matplotlib.pyplot as plt\n",
    "\n",
    "# Example: vector overlay (optional)\n",
    "gdf = gpd.read_file('data/sample_shapefile.shp')\n",
    "\n",
    "plt.figure(figsize=(10,8))\n",
    "plt.imshow(change_mask, cmap='Reds', alpha=0.5)\n",
    "gdf.plot(ax=plt.gca(), facecolor='none', edgecolor='blue')\n",
    "plt.title('Change Detection with Vector Overlay')\n",
    "plt.show()"
   ]
  },
  {
   "cell_type": "markdown",
   "id": "9aa0b874",
   "metadata": {},
   "source": [
    "**পরের পর্বে আমরা জানবো:**  \n",
    "Classification of Remote Sensing Data: Supervised ও Unsupervised classification, Random Forest এবং অন্যান্য methods ব্যবহার করে map তৈরি।"
   ]
  }
 ],
 "metadata": {
  "language_info": {
   "name": "python"
  }
 },
 "nbformat": 4,
 "nbformat_minor": 5
}
