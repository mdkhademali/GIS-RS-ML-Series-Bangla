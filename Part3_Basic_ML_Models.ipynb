{
 "cells": [
  {
   "cell_type": "markdown",
   "id": "ddbc82ee",
   "metadata": {},
   "source": [
    "**Md. Khadem Ali**  \n",
    "Student, Dept. of Geography & Environment  \n",
    "Shahid M. Mansur Ali College (Affiliated with National University of Bangladesh)  \n",
    "\n",
    "[Portfolio: www.khademali.com](http://www.khademali.com)"
   ]
  },
  {
   "cell_type": "markdown",
   "id": "ad8c6fbb",
   "metadata": {},
   "source": [
    "## পর্ব ৩: Basic Machine Learning Models\n",
    "\n",
    "এই নোটবুকে আমরা শিখবো:\n",
    "1. Linear Regression\n",
    "2. Logistic Regression\n",
    "3. Decision Tree\n",
    "4. Random Forest"
   ]
  },
  {
   "cell_type": "markdown",
   "id": "7d0f1c8d",
   "metadata": {},
   "source": [
    "## 1. Linear Regression\n",
    "\n",
    "Continuous target prediction এর জন্য ব্যবহার করা হয়।"
   ]
  },
  {
   "cell_type": "code",
   "execution_count": null,
   "id": "e2784560",
   "metadata": {},
   "outputs": [],
   "source": [
    "from sklearn.linear_model import LinearRegression\n",
    "from sklearn.metrics import mean_squared_error, r2_score\n",
    "\n",
    "# উদাহরণ: X_train, y_train ব্যবহার করে মডেল train করা\n",
    "lin_reg = LinearRegression()\n",
    "lin_reg.fit(X_train, y_train)\n",
    "\n",
    "# prediction\n",
    "y_pred = lin_reg.predict(X_test)\n",
    "\n",
    "# performance metrics\n",
    "mse = mean_squared_error(y_test, y_pred)\n",
    "r2 = r2_score(y_test, y_pred)\n",
    "print(f'MSE: {mse:.2f}, R2: {r2:.2f}')"
   ]
  },
  {
   "cell_type": "markdown",
   "id": "9d1d5084",
   "metadata": {},
   "source": [
    "## 2. Logistic Regression\n",
    "\n",
    "Categorical target prediction এর জন্য ব্যবহার করা হয়।"
   ]
  },
  {
   "cell_type": "code",
   "execution_count": null,
   "id": "d30e5700",
   "metadata": {},
   "outputs": [],
   "source": [
    "from sklearn.linear_model import LogisticRegression\n",
    "from sklearn.metrics import accuracy_score, confusion_matrix\n",
    "\n",
    "# উদাহরণ: X_train, y_train (categorical) ব্যবহার করে মডেল train করা\n",
    "log_reg = LogisticRegression(max_iter=200)\n",
    "log_reg.fit(X_train, y_train)\n",
    "\n",
    "# prediction\n",
    "y_pred = log_reg.predict(X_test)\n",
    "\n",
    "# performance metrics\n",
    "acc = accuracy_score(y_test, y_pred)\n",
    "cm = confusion_matrix(y_test, y_pred)\n",
    "print(f'Accuracy: {acc:.2f}')\n",
    "print('Confusion Matrix:')\n",
    "print(cm)"
   ]
  },
  {
   "cell_type": "markdown",
   "id": "b9580619",
   "metadata": {},
   "source": [
    "## 3. Decision Tree\n",
    "\n",
    "Decision Tree ব্যবহার করে classification বা regression করা যায়।"
   ]
  },
  {
   "cell_type": "code",
   "execution_count": null,
   "id": "80d90c2d",
   "metadata": {},
   "outputs": [],
   "source": [
    "from sklearn.tree import DecisionTreeClassifier\n",
    "\n",
    "# Decision Tree মডেল train করা\n",
    "dtree = DecisionTreeClassifier(random_state=42)\n",
    "dtree.fit(X_train, y_train)\n",
    "\n",
    "# prediction\n",
    "y_pred = dtree.predict(X_test)\n",
    "\n",
    "# performance\n",
    "acc = accuracy_score(y_test, y_pred)\n",
    "print(f'Decision Tree Accuracy: {acc:.2f}')"
   ]
  },
  {
   "cell_type": "markdown",
   "id": "4916ba06",
   "metadata": {},
   "source": [
    "## 4. Random Forest\n",
    "\n",
    "Multiple decision tree ব্যবহার করে prediction improve করা হয়।"
   ]
  },
  {
   "cell_type": "code",
   "execution_count": null,
   "id": "db733c66",
   "metadata": {},
   "outputs": [],
   "source": [
    "from sklearn.ensemble import RandomForestClassifier\n",
    "\n",
    "# Random Forest মডেল train করা\n",
    "rf = RandomForestClassifier(n_estimators=100, random_state=42)\n",
    "rf.fit(X_train, y_train)\n",
    "\n",
    "# prediction\n",
    "y_pred = rf.predict(X_test)\n",
    "\n",
    "# performance\n",
    "acc = accuracy_score(y_test, y_pred)\n",
    "print(f'Random Forest Accuracy: {acc:.2f}')"
   ]
  },
  {
   "cell_type": "markdown",
   "id": "ecb4dd3d",
   "metadata": {},
   "source": [
    "**পরের পর্বে আমরা জানবো:**  \n",
    "Advanced machine learning techniques যেমন Gradient Boosting, Hyperparameter Tuning এবং Feature Importance নিয়ে কাজ করা।"
   ]
  }
 ],
 "metadata": {
  "language_info": {
   "name": "python"
  }
 },
 "nbformat": 4,
 "nbformat_minor": 5
}
