{
 "cells": [
  {
   "cell_type": "markdown",
   "id": "268b73ae",
   "metadata": {},
   "source": [
    "**Md. Khadem Ali**  \n",
    "Student, Dept. of Geography & Environment  \n",
    "Shahid M. Mansur Ali College (Affiliated with National University of Bangladesh)  \n",
    "\n",
    "[Portfolio: www.khademali.com](http://www.khademali.com)"
   ]
  },
  {
   "cell_type": "markdown",
   "id": "73e64544",
   "metadata": {},
   "source": [
    "## পর্ব ৪: Advanced Machine Learning\n",
    "\n",
    "এই নোটবুকে আমরা শিখব:\n",
    "1. Gradient Boosting\n",
    "2. Hyperparameter Tuning\n",
    "3. Feature Importance\n",
    "4. Model Evaluation Techniques"
   ]
  },
  {
   "cell_type": "markdown",
   "id": "20ed22a0",
   "metadata": {},
   "source": [
    "## 1. Gradient Boosting\n",
    "\n",
    "Gradient Boosting হলো একটি ensemble method যা sequential decision tree তৈরি করে prediction improve করে।"
   ]
  },
  {
   "cell_type": "code",
   "execution_count": null,
   "id": "68b224a4",
   "metadata": {},
   "outputs": [],
   "source": [
    "from sklearn.ensemble import GradientBoostingClassifier\n",
    "from sklearn.metrics import accuracy_score\n",
    "\n",
    "# Gradient Boosting মডেল train করা\n",
    "gbc = GradientBoostingClassifier(n_estimators=100, learning_rate=0.1, random_state=42)\n",
    "gbc.fit(X_train, y_train)\n",
    "\n",
    "# prediction\n",
    "y_pred = gbc.predict(X_test)\n",
    "\n",
    "# performance\n",
    "acc = accuracy_score(y_test, y_pred)\n",
    "print(f'Gradient Boosting Accuracy: {acc:.2f}')"
   ]
  },
  {
   "cell_type": "markdown",
   "id": "a56b0e9f",
   "metadata": {},
   "source": [
    "## 2. Hyperparameter Tuning\n",
    "\n",
    "GridSearchCV ব্যবহার করে সেরা hyperparameter খুঁজে বের করা।"
   ]
  },
  {
   "cell_type": "code",
   "execution_count": null,
   "id": "2a00c4b1",
   "metadata": {},
   "outputs": [],
   "source": [
    "from sklearn.model_selection import GridSearchCV\n",
    "\n",
    "# উদাহরণ parameter grid\n",
    "param_grid = {\n",
    "    'n_estimators': [50, 100, 200],\n",
    "    'learning_rate': [0.01, 0.1, 0.2],\n",
    "    'max_depth': [3, 5, 7]\n",
    "}\n",
    "\n",
    "grid_search = GridSearchCV(estimator=GradientBoostingClassifier(random_state=42),\n",
    "                           param_grid=param_grid,\n",
    "                           cv=3,\n",
    "                           scoring='accuracy',\n",
    "                           n_jobs=-1)\n",
    "\n",
    "grid_search.fit(X_train, y_train)\n",
    "\n",
    "print(\"Best parameters:\", grid_search.best_params_)\n",
    "print(\"Best score:\", grid_search.best_score_)"
   ]
  },
  {
   "cell_type": "markdown",
   "id": "a3cc34bf",
   "metadata": {},
   "source": [
    "## 3. Feature Importance\n",
    "\n",
    "Model থেকে গুরুত্বপূর্ণ feature গুলো চিহ্নিত করা।"
   ]
  },
  {
   "cell_type": "code",
   "execution_count": null,
   "id": "ea42906d",
   "metadata": {},
   "outputs": [],
   "source": [
    "import pandas as pd\n",
    "import matplotlib.pyplot as plt\n",
    "\n",
    "# Feature importance\n",
    "feature_importances = pd.Series(grid_search.best_estimator_.feature_importances_, index=X_train.columns)\n",
    "feature_importances.sort_values().plot(kind='barh')\n",
    "plt.title('Feature Importance')\n",
    "plt.show()"
   ]
  },
  {
   "cell_type": "markdown",
   "id": "67c57bdb",
   "metadata": {},
   "source": [
    "## 4. Model Evaluation Techniques\n",
    "\n",
    "Advanced model evaluation:\n",
    "- Confusion Matrix\n",
    "- ROC Curve\n",
    "- AUC Score"
   ]
  },
  {
   "cell_type": "code",
   "execution_count": null,
   "id": "abf00a3d",
   "metadata": {},
   "outputs": [],
   "source": [
    "from sklearn.metrics import confusion_matrix, roc_auc_score, roc_curve\n",
    "import matplotlib.pyplot as plt\n",
    "\n",
    "# Confusion Matrix\n",
    "y_pred = grid_search.predict(X_test)\n",
    "cm = confusion_matrix(y_test, y_pred)\n",
    "print(\"Confusion Matrix:\")\n",
    "print(cm)\n",
    "\n",
    "# ROC AUC\n",
    "y_prob = grid_search.predict_proba(X_test)[:,1]\n",
    "auc = roc_auc_score(y_test, y_prob)\n",
    "print(f'ROC AUC: {auc:.2f}')\n",
    "\n",
    "# ROC Curve\n",
    "fpr, tpr, thresholds = roc_curve(y_test, y_prob)\n",
    "plt.plot(fpr, tpr, label=f'AUC = {auc:.2f}')\n",
    "plt.plot([0,1],[0,1],'k--')\n",
    "plt.xlabel('False Positive Rate')\n",
    "plt.ylabel('True Positive Rate')\n",
    "plt.title('ROC Curve')\n",
    "plt.legend()\n",
    "plt.show()"
   ]
  },
  {
   "cell_type": "markdown",
   "id": "9358589a",
   "metadata": {},
   "source": [
    "**পরের পর্বে আমরা জানবো:**  \n",
    "Deep Learning, বিশেষ করে CNN ব্যবহার করে Remote Sensing images এর classification কিভাবে করা যায়।"
   ]
  }
 ],
 "metadata": {
  "language_info": {
   "name": "python"
  }
 },
 "nbformat": 4,
 "nbformat_minor": 5
}
