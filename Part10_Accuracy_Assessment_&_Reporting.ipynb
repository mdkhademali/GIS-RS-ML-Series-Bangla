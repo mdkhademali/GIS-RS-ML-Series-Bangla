{
 "cells": [
  {
   "cell_type": "markdown",
   "id": "1b015715",
   "metadata": {},
   "source": [
    "**Md. Khadem Ali**  \n",
    "Student, Dept. of Geography & Environment  \n",
    "Shahid M. Mansur Ali College (Affiliated with National University of Bangladesh)  \n",
    "\n",
    "[Portfolio: www.khademali.com](http://www.khademali.com)"
   ]
  },
  {
   "cell_type": "markdown",
   "id": "405811e9",
   "metadata": {},
   "source": [
    "## পর্ব ১০: Accuracy Assessment & Reporting\n",
    "\n",
    "এই নোটবুকে আমরা শিখব:\n",
    "1. Classification বা model results এর accuracy যাচাই\n",
    "2. Confusion Matrix তৈরি\n",
    "3. Overall Accuracy এবং Kappa Coefficient গণনা\n",
    "4. Result visualization\n",
    "5. Reporting in tables ও charts"
   ]
  },
  {
   "cell_type": "markdown",
   "id": "9f581197",
   "metadata": {},
   "source": [
    "## 1. Accuracy Assessment Overview\n",
    "\n",
    "- Classification বা prediction মডেলের সঠিকতা যাচাই করা জরুরি।  \n",
    "- Common metrics: \n",
    "    - Confusion Matrix\n",
    "    - Overall Accuracy\n",
    "    - Kappa Coefficient\n",
    "- Validation dataset প্রয়োজন।"
   ]
  },
  {
   "cell_type": "markdown",
   "id": "17a3d8f4",
   "metadata": {},
   "source": [
    "## 2. Confusion Matrix & Overall Accuracy\n",
    "\n",
    "Confusion matrix হলো predicted vs actual class comparison।  \n",
    "Overall accuracy হলো সঠিক prediction এর অনুপাত।"
   ]
  },
  {
   "cell_type": "code",
   "execution_count": null,
   "id": "beb5ab74",
   "metadata": {},
   "outputs": [],
   "source": [
    "from sklearn.metrics import confusion_matrix, accuracy_score, cohen_kappa_score\n",
    "import seaborn as sns\n",
    "import matplotlib.pyplot as plt\n",
    "\n",
    "# উদাহরণ: validation data\n",
    "y_true = y_val  # validation label\n",
    "y_pred = y_pred_val  # predicted label\n",
    "\n",
    "# Confusion Matrix\n",
    "cm = confusion_matrix(y_true, y_pred)\n",
    "print(\"Confusion Matrix:\\n\", cm)\n",
    "\n",
    "# Overall Accuracy\n",
    "oa = accuracy_score(y_true, y_pred)\n",
    "print(f\"Overall Accuracy: {oa:.2f}\")\n",
    "\n",
    "# Kappa Coefficient\n",
    "kappa = cohen_kappa_score(y_true, y_pred)\n",
    "print(f\"Kappa Coefficient: {kappa:.2f}\")\n",
    "\n",
    "# Heatmap visualization\n",
    "plt.figure(figsize=(8,6))\n",
    "sns.heatmap(cm, annot=True, fmt='d', cmap='Blues')\n",
    "plt.xlabel('Predicted Class')\n",
    "plt.ylabel('Actual Class')\n",
    "plt.title('Confusion Matrix Heatmap')\n",
    "plt.show()"
   ]
  },
  {
   "cell_type": "markdown",
   "id": "623ac970",
   "metadata": {},
   "source": [
    "## 3. Class-wise Accuracy\n",
    "\n",
    "প্রতিটি class এর জন্য accuracy বের করা যায়।"
   ]
  },
  {
   "cell_type": "code",
   "execution_count": null,
   "id": "40107f9e",
   "metadata": {},
   "outputs": [],
   "source": [
    "class_accuracy = cm.diagonal() / cm.sum(axis=1)\n",
    "for i, acc in enumerate(class_accuracy):\n",
    "    print(f\"Class {i} Accuracy: {acc:.2f}\")"
   ]
  },
  {
   "cell_type": "markdown",
   "id": "97a7c3b8",
   "metadata": {},
   "source": [
    "## 4. Result Visualization\n",
    "\n",
    "Pie chart বা bar chart ব্যবহার করে class-wise accuracy report করা যায়।"
   ]
  },
  {
   "cell_type": "code",
   "execution_count": null,
   "id": "5d8d5e35",
   "metadata": {},
   "outputs": [],
   "source": [
    "# Bar chart for class-wise accuracy\n",
    "classes = [f'Class {i}' for i in range(len(class_accuracy))]\n",
    "plt.figure(figsize=(8,6))\n",
    "plt.bar(classes, class_accuracy, color='skyblue')\n",
    "plt.ylim(0,1)\n",
    "plt.ylabel('Accuracy')\n",
    "plt.title('Class-wise Accuracy')\n",
    "plt.show()"
   ]
  },
  {
   "cell_type": "markdown",
   "id": "7424d279",
   "metadata": {},
   "source": [
    "## 5. Reporting\n",
    "\n",
    "Accuracy results Excel বা CSV ফাইলে export করা যায়।"
   ]
  },
  {
   "cell_type": "code",
   "execution_count": null,
   "id": "cbbacf46",
   "metadata": {},
   "outputs": [],
   "source": [
    "import pandas as pd\n",
    "\n",
    "report = pd.DataFrame({\n",
    "    'Class': classes,\n",
    "    'Accuracy': class_accuracy\n",
    "})\n",
    "\n",
    "# CSV export\n",
    "report.to_csv('accuracy_report.csv', index=False)\n",
    "print(\"Accuracy report exported to accuracy_report.csv\")"
   ]
  },
  {
   "cell_type": "markdown",
   "id": "1475c6d8",
   "metadata": {},
   "source": [
    "**পরের পর্বে আমরা জানবো:**  \n",
    "সমাপনী পর্ব (Conclusion & Best Practices): পুরো workflow recap, best practices, future directions এবং practical tips।"
   ]
  }
 ],
 "metadata": {
  "language_info": {
   "name": "python"
  }
 },
 "nbformat": 4,
 "nbformat_minor": 5
}
