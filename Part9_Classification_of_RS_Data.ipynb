{
 "cells": [
  {
   "cell_type": "markdown",
   "id": "fa58317a",
   "metadata": {},
   "source": [
    "Md. Khadem Ali\n",
    "Student, Dept. of Geography & Environment, Shahid M. Mansur Ali College (Affiliated with National University of Bangladesh)\n",
    "Portfolio: wwww.khademali.com"
   ]
  },
  {
   "cell_type": "markdown",
   "id": "308de30e",
   "metadata": {},
   "source": [
    "## পর্ব ৯: Classification of Remote Sensing Data\n",
    "\n",
    "এই নোটবুকে আমরা শিখব:\n",
    "1. Classification কী এবং কেন প্রয়োজন\n",
    "2. Supervised vs Unsupervised Classification\n",
    "3. Preparing Training Data\n",
    "4. Supervised Classification উদাহরণ (Random Forest)\n",
    "5. Accuracy Assessment\n",
    "6. Visualization of Classified Map"
   ]
  },
  {
   "cell_type": "markdown",
   "id": "cccb504d",
   "metadata": {},
   "source": [
    "## 1. Classification Introduction\n",
    "\n",
    "Remote sensing data classification হলো পিক্সেল বা অবজেক্টকে predefined classes (যেমন: water, vegetation, urban) এ ভাগ করা।  \n",
    "- উদাহরণ: Land Cover Mapping, Urban Expansion Monitoring"
   ]
  },
  {
   "cell_type": "markdown",
   "id": "2e38567f",
   "metadata": {},
   "source": [
    "## 2. Supervised vs Unsupervised Classification\n",
    "\n",
    "- Supervised Classification: Training data দেওয়া থাকে, model শিখে class predict করে।  \n",
    "- Unsupervised Classification: Model নিজে clustering করে, কোন পিক্সেল কোন group এ যাবে তা স্বয়ংক্রিয়ভাবে নির্ধারণ করে।"
   ]
  },
  {
   "cell_type": "markdown",
   "id": "f1d1d6e3",
   "metadata": {},
   "source": [
    "## 3. Preparing Training Data\n",
    "\n",
    "Training data তৈরি করতে:\n",
    "1. Field survey বা reference map থেকে labeled points সংগ্রহ করা\n",
    "2. Pixel values বা raster values sampling\n",
    "3. GeoDataFrame বা DataFrame আকারে structured data তৈরি"
   ]
  },
  {
   "cell_type": "code",
   "execution_count": null,
   "id": "92f27bbe",
   "metadata": {},
   "outputs": [],
   "source": [
    "import geopandas as gpd\n",
    "import rasterio\n",
    "import pandas as pd\n",
    "import numpy as np\n",
    "\n",
    "# Labeled points লোড\n",
    "train_points = gpd.read_file('data/training_points.shp')\n",
    "\n",
    "# Raster layers লোড (multiple bands)\n",
    "bands = ['data/band1.tif', 'data/band2.tif', 'data/band3.tif']\n",
    "rasters = [rasterio.open(b) for b in bands]\n",
    "\n",
    "# Extract raster values at training points\n",
    "values = []\n",
    "for point in train_points.geometry:\n",
    "    vals = [r.sample([(point.x, point.y)]).__next__()[0] for r in rasters]\n",
    "    values.append(vals)\n",
    "\n",
    "# DataFrame\n",
    "X_train = pd.DataFrame(values, columns=['band1','band2','band3'])\n",
    "y_train = train_points['class_label']\n",
    "X_train.head()"
   ]
  },
  {
   "cell_type": "markdown",
   "id": "bfd025f1",
   "metadata": {},
   "source": [
    "## 4. Supervised Classification: Random Forest\n",
    "\n",
    "Random Forest ব্যবহার করে supervised classification করা।"
   ]
  },
  {
   "cell_type": "code",
   "execution_count": null,
   "id": "521ddb64",
   "metadata": {},
   "outputs": [],
   "source": [
    "from sklearn.ensemble import RandomForestClassifier\n",
    "\n",
    "# মডেল train\n",
    "rf = RandomForestClassifier(n_estimators=100, random_state=42)\n",
    "rf.fit(X_train, y_train)\n",
    "\n",
    "# Prediction over full raster (example for small area)\n",
    "# ধাপে ধাপে raster array তৈরি করা\n",
    "sample_band = rasters[0].read(1)\n",
    "rows, cols = sample_band.shape\n",
    "stacked_rasters = np.dstack([r.read(1) for r in rasters])\n",
    "flat_pixels = stacked_rasters.reshape(-1, stacked_rasters.shape[2])\n",
    "\n",
    "# Prediction\n",
    "pred_flat = rf.predict(flat_pixels)\n",
    "pred_map = pred_flat.reshape(rows, cols)"
   ]
  },
  {
   "cell_type": "markdown",
   "id": "149c8794",
   "metadata": {},
   "source": [
    "## 5. Accuracy Assessment\n",
    "\n",
    "Confusion matrix, overall accuracy, kappa coefficient দিয়ে accuracy যাচাই।"
   ]
  },
  {
   "cell_type": "code",
   "execution_count": null,
   "id": "e6d20f90",
   "metadata": {},
   "outputs": [],
   "source": [
    "from sklearn.metrics import confusion_matrix, accuracy_score, cohen_kappa_score\n",
    "\n",
    "# উদাহরণ: যদি validation points থাকে\n",
    "val_points = gpd.read_file('data/validation_points.shp')\n",
    "\n",
    "# Raster values extract\n",
    "val_values = []\n",
    "for point in val_points.geometry:\n",
    "    vals = [r.sample([(point.x, point.y)]).__next__()[0] for r in rasters]\n",
    "    val_values.append(vals)\n",
    "\n",
    "X_val = pd.DataFrame(val_values, columns=['band1','band2','band3'])\n",
    "y_val = val_points['class_label']\n",
    "\n",
    "# Prediction\n",
    "y_pred_val = rf.predict(X_val)\n",
    "\n",
    "# Metrics\n",
    "conf_matrix = confusion_matrix(y_val, y_pred_val)\n",
    "accuracy = accuracy_score(y_val, y_pred_val)\n",
    "kappa = cohen_kappa_score(y_val, y_pred_val)\n",
    "\n",
    "print(\"Confusion Matrix:\\n\", conf_matrix)\n",
    "print(f\"Overall Accuracy: {accuracy:.2f}\")\n",
    "print(f\"Kappa Coefficient: {kappa:.2f}\")"
   ]
  },
  {
   "cell_type": "markdown",
   "id": "a13202a4",
   "metadata": {},
   "source": [
    "## 6. Visualization of Classified Map\n",
    "\n",
    "Classification ফলাফল map আকারে দেখানো।"
   ]
  },
  {
   "cell_type": "code",
   "execution_count": null,
   "id": "05beddc9",
   "metadata": {},
   "outputs": [],
   "source": [
    "import matplotlib.pyplot as plt\n",
    "\n",
    "plt.figure(figsize=(10,8))\n",
    "plt.imshow(pred_map, cmap='tab20')\n",
    "plt.colorbar(label='Classes')\n",
    "plt.title('Classified Map (Random Forest)')\n",
    "plt.show()"
   ]
  },
  {
   "cell_type": "markdown",
   "id": "4ef2fd2d",
   "metadata": {},
   "source": [
    "**পরের পর্বে আমরা জানবো:**  \n",
    "Accuracy Assessment & Reporting: Confusion Matrix, Overall Accuracy, Kappa Coefficient এবং class-wise accuracy বিশ্লেষণ।"
   ]
  }
 ],
 "metadata": {
  "language_info": {
   "name": "python"
  }
 },
 "nbformat": 4,
 "nbformat_minor": 5
}
