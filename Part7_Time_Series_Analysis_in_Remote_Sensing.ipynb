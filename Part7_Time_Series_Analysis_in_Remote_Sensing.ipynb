{
 "cells": [
  {
   "cell_type": "markdown",
   "id": "222f381f",
   "metadata": {},
   "source": [
    "**Md. Khadem Ali**  \n",
    "Student, Dept. of Geography & Environment  \n",
    "Shahid M. Mansur Ali College (Affiliated with National University of Bangladesh)  \n",
    "\n",
    "[Portfolio: www.khademali.com](http://www.khademali.com)"
   ]
  },
  {
   "cell_type": "markdown",
   "id": "823bd3e3",
   "metadata": {},
   "source": [
    "## পর্ব ৭: Time Series Analysis in Remote Sensing\n",
    "\n",
    "এই নোটবুকে আমরা শিখবো:\n",
    "1. Remote sensing time series ডেটা কি\n",
    "2. Temporal patterns analysis\n",
    "3. NDVI time series তৈরি\n",
    "4. Visualization & trend detection"
   ]
  },
  {
   "cell_type": "markdown",
   "id": "b7d8911b",
   "metadata": {},
   "source": [
    "## 1. Remote Sensing Time Series\n",
    "\n",
    "Satellite imagery বা raster data একাধিক সময়ে capture করা হয়।  \n",
    "- উদাহরণ: Landsat বা Sentinel images প্রতি মাসে crop বা vegetation monitor করা।"
   ]
  },
  {
   "cell_type": "markdown",
   "id": "b3dab65a",
   "metadata": {},
   "source": [
    "## 2. Temporal Patterns Analysis\n",
    "\n",
    "Time series data থেকে seasonal variations বা trends চিহ্নিত করা।"
   ]
  },
  {
   "cell_type": "code",
   "execution_count": null,
   "id": "7333c8bf",
   "metadata": {},
   "outputs": [],
   "source": [
    "import rasterio\n",
    "import numpy as np\n",
    "import pandas as pd\n",
    "import matplotlib.pyplot as plt\n",
    "import glob\n",
    "\n",
    "# NDVI time series images path\n",
    "ndvi_files = sorted(glob.glob('data/ndvi/*.tif'))\n",
    "\n",
    "dates = []\n",
    "ndvi_means = []\n",
    "\n",
    "for f in ndvi_files:\n",
    "    with rasterio.open(f) as src:\n",
    "        ndvi = src.read(1)\n",
    "        ndvi_mean = np.nanmean(ndvi)\n",
    "        ndvi_means.append(ndvi_mean)\n",
    "        \n",
    "        # Date from filename assuming format: ndvi_YYYYMMDD.tif\n",
    "        date_str = f.split('_')[-1].split('.')[0]\n",
    "        dates.append(pd.to_datetime(date_str, format='%Y%m%d'))\n",
    "\n",
    "# Create DataFrame\n",
    "df = pd.DataFrame({'date': dates, 'ndvi_mean': ndvi_means})\n",
    "df.set_index('date', inplace=True)\n",
    "df.head()"
   ]
  },
  {
   "cell_type": "markdown",
   "id": "514f581a",
   "metadata": {},
   "source": [
    "## 3. NDVI Time Series Visualization"
   ]
  },
  {
   "cell_type": "code",
   "execution_count": null,
   "id": "d32fdd6d",
   "metadata": {},
   "outputs": [],
   "source": [
    "plt.figure(figsize=(12,6))\n",
    "plt.plot(df.index, df['ndvi_mean'], marker='o', linestyle='-')\n",
    "plt.title('NDVI Time Series')\n",
    "plt.xlabel('Date')\n",
    "plt.ylabel('Mean NDVI')\n",
    "plt.grid(True)\n",
    "plt.show()"
   ]
  },
  {
   "cell_type": "markdown",
   "id": "3045649c",
   "metadata": {},
   "source": [
    "## 4. Trend Detection\n",
    "\n",
    "Time series থেকে trend বের করা যায়। উদাহরণ: Rolling mean বা linear regression।"
   ]
  },
  {
   "cell_type": "code",
   "execution_count": null,
   "id": "2488fe96",
   "metadata": {},
   "outputs": [],
   "source": [
    "# Rolling mean with window=3\n",
    "df['ndvi_rolling'] = df['ndvi_mean'].rolling(window=3).mean()\n",
    "\n",
    "plt.figure(figsize=(12,6))\n",
    "plt.plot(df.index, df['ndvi_mean'], marker='o', label='NDVI')\n",
    "plt.plot(df.index, df['ndvi_rolling'], color='red', label='Rolling Mean')\n",
    "plt.title('NDVI Trend with Rolling Mean')\n",
    "plt.xlabel('Date')\n",
    "plt.ylabel('NDVI')\n",
    "plt.legend()\n",
    "plt.grid(True)\n",
    "plt.show()"
   ]
  },
  {
   "cell_type": "markdown",
   "id": "c17cba69",
   "metadata": {},
   "source": [
    "**পরের পর্বে আমরা জানবো:**  \n",
    "Change Detection: দুই বা ততোধিক সময়ের satellite images ব্যবহার করে land cover বা vegetation পরিবর্তন শনাক্ত করা।"
   ]
  }
 ],
 "metadata": {
  "language_info": {
   "name": "python"
  }
 },
 "nbformat": 4,
 "nbformat_minor": 5
}
