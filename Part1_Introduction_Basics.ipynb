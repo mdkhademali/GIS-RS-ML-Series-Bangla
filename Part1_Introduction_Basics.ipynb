{
  "cells": [
    {
      "cell_type": "markdown",
      "id": "fc9fca60",
      "metadata": {},
      "source": [
        "<h1 style=\"text-align: center;\">ব্যাসিক জিআইএস, রিমোট সেন্সিং এবং মেশিন লার্নিং</h1>"
      ]
    },
    {
      "cell_type": "markdown",
      "id": "a8afd184",
      "metadata": {},
      "source": [
        "**Md. Khadem Ali**  \n",
        "Student, Dept. of Geography & Environment  \n",
        "Shahid M. Mansur Ali College (Affiliated with National University of Bangladesh)  \n",
        "\n",
        "[Portfolio: www.khademali.com](http://www.khademali.com)"
      ]
    },
    {
      "cell_type": "markdown",
      "id": "b507ca17",
      "metadata": {},
      "source": [
        "# পর্ব ১: জিআইএস, রিমোট সেন্সিং এবং মেশিন লার্নিং - পরিচিতি\n",
        "\n",
        "এই নোটবুকে আমরা জানব:\n",
        "1. GIS ও Remote Sensing কী\n",
        "2. মেশিন লার্নিং এর প্রয়োজন\n",
        "3. Python সেটআপ এবং প্রাথমিক কোড উদাহরণ"
      ]
    },
    {
      "cell_type": "markdown",
      "metadata": {},
      "source": [
        "## 1. জিআইএস (GIS) কী?\n",
        "\n",
        "জিআইএস বা Geographic Information System হলো এমন একটি সিস্টেম যা **ভৌগোলিক ডেটা সংগ্রহ, সংরক্ষণ, বিশ্লেষণ এবং ভিজ্যুয়ালাইজেশনের জন্য ব্যবহার করা হয়।**\n",
        "- উদাহরণ: মানচিত্রে নদী, রাস্তা, বন, শহরকে আলাদা আলাদা লেয়ার হিসেবে দেখানো।\n",
        "- এটি decision making, urban planning, natural resource management ইত্যাদিতে সাহায্য করে।"
      ]
    },
    {
      "cell_type": "markdown",
      "metadata": {},
      "source": [
        "## 2. রিমোট সেন্সিং (Remote Sensing) কী?\n",
        "\n",
        "রিমোট সেন্সিং হলো দূর থেকে ডেটা সংগ্রহের প্রক্রিয়া, সাধারণত স্যাটেলাইট বা ড্রোন ব্যবহার করে।\n",
        "- উদাহরণ: Landsat বা Sentinel স্যাটেলাইট থেকে ল্যান্ড কভার বা কৃষি জমির তথ্য।\n",
        "- এই ডেটা জিআইএসে ব্যবহার করে বিশ্লেষণ করা যায়।"
      ]
    },
    {
      "cell_type": "markdown",
      "metadata": {},
      "source": [
        "## 3. মেশিন লার্নিং কেন প্রয়োজন?\n",
        "\n",
        "রিমোট সেন্সিং ডেটা অনেক বড় এবং জটিল।\n",
        "- মেশিন লার্নিং আমাদের সাহায্য করে ডেটা থেকে **pattern চিনতে এবং prediction করতে।**\n",
        "- উদাহরণ: Landsat ইমেজ দেখে কোন এলাকা বন, জলাশয় বা শহর তা স্বয়ংক্রিয়ভাবে চিহ্নিত করা।"
      ]
    },
    {
      "cell_type": "markdown",
      "metadata": {},
      "source": [
        "## Python সেটআপ এবং লাইব্রেরি\n",
        "\n",
        "প্রয়োজনীয় লাইব্রেরি ইম্পোর্ট করা:"
      ]
    },
    {
      "cell_type": "code",
      "execution_count": null,
      "metadata": {},
      "outputs": [],
      "source": [
        "# প্রয়োজনীয় লাইব্রেরি ইম্পোর্ট\n",
        "import geopandas as gpd\n",
        "import rasterio\n",
        "from rasterio.plot import show\n",
        "import matplotlib.pyplot as plt\n",
        "import numpy as np\n",
        "\n",
        "# নোট: লাইব্রেরি ইনস্টল করতে হলে\n",
        "# pip install geopandas rasterio matplotlib"
      ]
    },
    {
      "cell_type": "markdown",
      "metadata": {},
      "source": [
        "## 4. GeoDataFrame লোড করা এবং দেখা"
      ]
    },
    {
      "cell_type": "code",
      "execution_count": null,
      "metadata": {},
      "outputs": [],
      "source": [
        "# উদাহরণ: একটি শেপফাইল লোড করা\n",
        "gdf = gpd.read_file('data/sample_shapefile.shp')\n",
        "\n",
        "# প্রথম ৫টি রেকর্ড দেখা\n",
        "gdf.head()"
      ]
    },
    {
      "cell_type": "markdown",
      "metadata": {},
      "source": [
        "## 5. Raster ডেটা লোড এবং basic visualization"
      ]
    },
    {
      "cell_type": "code",
      "execution_count": null,
      "metadata": {},
      "outputs": [],
      "source": [
        "# একটি raster লোড করা\n",
        "raster = rasterio.open('data/sample_raster.tif')\n",
        "\n",
        "# Raster info\n",
        "print(raster.meta)\n",
        "\n",
        "# Raster visualize করা\n",
        "plt.figure(figsize=(8,6))\n",
        "show(raster)\n",
        "plt.title('Sample Raster')\n",
        "plt.show()"
      ]
    },
    {
      "cell_type": "markdown",
      "metadata": {},
      "source": [
        "## 6. শর্ট সামারি\n",
        "- জিআইএস আমাদের spatial data manage করতে সাহায্য করে।\n",
        "- রিমোট সেন্সিং থেকে আমরা ইমেজ এবং raster data পাই।\n",
        "- মেশিন লার্নিং এই ডেটা বিশ্লেষণ এবং prediction এর জন্য দরকার।\n",
        "- Python + Jupyter Notebook দিয়ে আমরা সহজে ডেটা load, visualize এবং প্রি-প্রসেস করতে পারি।"
      ]
    },
    {
      "cell_type": "markdown",
      "id": "2765a86d",
      "metadata": {},
      "source": [
        "**পরের পর্বে আমরা জানবো:**  \n",
        "Data preprocessing কিভাবে করতে হয়, CRS ম্যানেজমেন্ট, missing data handling, normalization এবং train-test split সম্পর্কে।"
      ]
    }
  ],
  "metadata": {
    "kernelspec": {
      "display_name": "Python 3",
      "language": "python",
      "name": "python3"
    },
    "language_info": {
      "name": "python",
      "version": "3.11"
    }
  },
  "nbformat": 4,
  "nbformat_minor": 5
}
