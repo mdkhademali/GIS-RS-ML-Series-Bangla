{
 "cells": [
  {
   "cell_type": "markdown",
   "id": "c2bb7a1c",
   "metadata": {},
   "source": [
    "Md. Khadem Ali\n",
    "Student, Dept. of Geography & Environment, Shahid M. Mansur Ali College (Affiliated with National University of Bangladesh)\n",
    "Portfolio: wwww.khademali.com"
   ]
  },
  {
   "cell_type": "markdown",
   "id": "31f6bd80",
   "metadata": {},
   "source": [
    "## পর্ব ৫: Deep Learning (CNN for Remote Sensing)\n",
    "\n",
    "এই নোটবুকে আমরা শিখব:\n",
    "1. Convolutional Neural Networks (CNN) পরিচিতি\n",
    "2. Dataset প্রস্তুতি (Image Tiles)\n",
    "3. CNN মডেল বানানো\n",
    "4. মডেল ট্রেনিং ও Evaluation"
   ]
  },
  {
   "cell_type": "markdown",
   "id": "56175cbc",
   "metadata": {},
   "source": [
    "## 1. Convolutional Neural Networks (CNN)\n",
    "\n",
    "CNN হলো deep learning মডেল যা image data এর জন্য বিশেষভাবে কার্যকর।\n",
    "- Convolution layer: feature extraction\n",
    "- Pooling layer: spatial dimension reduce\n",
    "- Fully connected layer: classification"
   ]
  },
  {
   "cell_type": "code",
   "execution_count": null,
   "id": "57531f6f",
   "metadata": {},
   "outputs": [],
   "source": [
    "import tensorflow as tf\n",
    "from tensorflow.keras.models import Sequential\n",
    "from tensorflow.keras.layers import Conv2D, MaxPooling2D, Flatten, Dense, Dropout\n",
    "from tensorflow.keras.preprocessing.image import ImageDataGenerator"
   ]
  },
  {
   "cell_type": "markdown",
   "id": "94bc4a49",
   "metadata": {},
   "source": [
    "## 2. Dataset প্রস্তুতি (Image Tiles)\n",
    "\n",
    "Image folder structure:\n",
    "- train/\n",
    "    - class1/\n",
    "    - class2/\n",
    "- test/\n",
    "    - class1/\n",
    "    - class2/"
   ]
  },
  {
   "cell_type": "code",
   "execution_count": null,
   "id": "5fb0aedd",
   "metadata": {},
   "outputs": [],
   "source": [
    "# Image data augmentation and generators\n",
    "train_datagen = ImageDataGenerator(rescale=1./255,\n",
    "                                   rotation_range=20,\n",
    "                                   width_shift_range=0.1,\n",
    "                                   height_shift_range=0.1,\n",
    "                                   horizontal_flip=True)\n",
    "\n",
    "test_datagen = ImageDataGenerator(rescale=1./255)\n",
    "\n",
    "train_generator = train_datagen.flow_from_directory(\n",
    "    'data/train',\n",
    "    target_size=(64,64),\n",
    "    batch_size=32,\n",
    "    class_mode='binary'\n",
    ")\n",
    "\n",
    "test_generator = test_datagen.flow_from_directory(\n",
    "    'data/test',\n",
    "    target_size=(64,64),\n",
    "    batch_size=32,\n",
    "    class_mode='binary'\n",
    ")"
   ]
  },
  {
   "cell_type": "markdown",
   "id": "c8e9b895",
   "metadata": {},
   "source": [
    "## 3. CNN মডেল বানানো\n",
    "\n",
    "Sequential model তৈরি করে Conv2D, MaxPooling2D, Flatten এবং Dense layers যোগ করা।"
   ]
  },
  {
   "cell_type": "code",
   "execution_count": null,
   "id": "e0f3d5a5",
   "metadata": {},
   "outputs": [],
   "source": [
    "model = Sequential([\n",
    "    Conv2D(32, (3,3), activation='relu', input_shape=(64,64,3)),\n",
    "    MaxPooling2D((2,2)),\n",
    "    Conv2D(64, (3,3), activation='relu'),\n",
    "    MaxPooling2D((2,2)),\n",
    "    Flatten(),\n",
    "    Dense(128, activation='relu'),\n",
    "    Dropout(0.5),\n",
    "    Dense(1, activation='sigmoid')\n",
    "])\n",
    "\n",
    "model.compile(optimizer='adam', loss='binary_crossentropy', metrics=['accuracy'])\n",
    "model.summary()"
   ]
  },
  {
   "cell_type": "markdown",
   "id": "9bb3b7d3",
   "metadata": {},
   "source": [
    "## 4. মডেল ট্রেনিং ও Evaluation\n",
    "\n",
    "Model train করা এবং test accuracy দেখা।"
   ]
  },
  {
   "cell_type": "code",
   "execution_count": null,
   "id": "7ea08d5e",
   "metadata": {},
   "outputs": [],
   "source": [
    "history = model.fit(\n",
    "    train_generator,\n",
    "    epochs=10,\n",
    "    validation_data=test_generator\n",
    ")"
   ]
  },
  {
   "cell_type": "code",
   "execution_count": null,
   "id": "fba03265",
   "metadata": {},
   "outputs": [],
   "source": [
    "# Test accuracy\n",
    "loss, acc = model.evaluate(test_generator)\n",
    "print(f'Test Accuracy: {acc:.2f}')\n",
    "\n",
    "# Training & Validation accuracy plot\n",
    "import matplotlib.pyplot as plt\n",
    "\n",
    "plt.plot(history.history['accuracy'], label='train_accuracy')\n",
    "plt.plot(history.history['val_accuracy'], label='val_accuracy')\n",
    "plt.xlabel('Epoch')\n",
    "plt.ylabel('Accuracy')\n",
    "plt.title('Training & Validation Accuracy')\n",
    "plt.legend()\n",
    "plt.show()"
   ]
  },
  {
   "cell_type": "markdown",
   "id": "b23f0a07",
   "metadata": {},
   "source": [
    "**পরের পর্বে আমরা জানবো:**  \n",
    "Data Visualization & Mapping: Raster এবং Vector ডেটা দেখানো, layer overlay করা এবং interactive maps তৈরি করা।"
   ]
  }
 ],
 "metadata": {
  "language_info": {
   "name": "python"
  }
 },
 "nbformat": 4,
 "nbformat_minor": 5
}
