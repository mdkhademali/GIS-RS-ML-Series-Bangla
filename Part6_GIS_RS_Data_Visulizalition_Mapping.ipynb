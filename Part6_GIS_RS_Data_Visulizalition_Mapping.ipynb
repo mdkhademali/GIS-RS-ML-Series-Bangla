{
 "cells": [
  {
   "cell_type": "markdown",
   "id": "6a4b7bf2",
   "metadata": {},
   "source": [
    "Md. Khadem Ali\n",
    "Student, Dept. of Geography & Environment, Shahid M. Mansur Ali College (Affiliated with National University of Bangladesh)\n",
    "Portfolio: wwww.khademali.com"
   ]
  },
  {
   "cell_type": "markdown",
   "id": "4689ced0",
   "metadata": {},
   "source": [
    "## পর্ব ৬: GIS & Remote Sensing Data Visualization and Mapping\n",
    "\n",
    "এই নোটবুকে আমরা শিখব:\n",
    "1. ভেক্টর ডেটার মানচিত্রে ভিজ্যুয়ালাইজেশন\n",
    "2. Raster ডেটার ভিজ্যুয়ালাইজেশন\n",
    "3. Layer overlay এবং styling\n",
    "4. Matplotlib ও Folium ব্যবহার"
   ]
  },
  {
   "cell_type": "markdown",
   "id": "55ad05c3",
   "metadata": {},
   "source": [
    "## 1. ভেক্টর ডেটার ভিজ্যুয়ালাইজেশন\n",
    "\n",
    "GeoDataFrame plot() ব্যবহার করে spatial data দেখানো।"
   ]
  },
  {
   "cell_type": "code",
   "execution_count": null,
   "id": "850d4eeb",
   "metadata": {},
   "outputs": [],
   "source": [
    "import geopandas as gpd\n",
    "import matplotlib.pyplot as plt\n",
    "\n",
    "# GeoDataFrame লোড\n",
    "gdf = gpd.read_file('data/sample_shapefile.shp')\n",
    "\n",
    "# plot\n",
    "gdf.plot(column='column_name', cmap='viridis', legend=True, figsize=(10,8))\n",
    "plt.title('Vector Data Visualization')\n",
    "plt.show()"
   ]
  },
  {
   "cell_type": "markdown",
   "id": "5f6e4680",
   "metadata": {},
   "source": [
    "## 2. Raster ডেটার ভিজ্যুয়ালাইজেশন\n",
    "\n",
    "Rasterio এবং matplotlib ব্যবহার করে raster দেখানো।"
   ]
  },
  {
   "cell_type": "code",
   "execution_count": null,
   "id": "cada1d9c",
   "metadata": {},
   "outputs": [],
   "source": [
    "import rasterio\n",
    "from rasterio.plot import show\n",
    "\n",
    "# Raster লোড\n",
    "raster = rasterio.open('data/sample_raster.tif')\n",
    "\n",
    "# plot\n",
    "plt.figure(figsize=(10,8))\n",
    "show(raster, cmap='terrain')\n",
    "plt.title('Raster Data Visualization')\n",
    "plt.show()"
   ]
  },
  {
   "cell_type": "markdown",
   "id": "96d36a07",
   "metadata": {},
   "source": [
    "## 3. Layer overlay এবং styling\n",
    "\n",
    "ভেক্টর এবং raster data এক সাথে overlay করা যায়।"
   ]
  },
  {
   "cell_type": "code",
   "execution_count": null,
   "id": "2dab1cb7",
   "metadata": {},
   "outputs": [],
   "source": [
    "# Raster plot\n",
    "plt.figure(figsize=(10,8))\n",
    "show(raster, cmap='terrain')\n",
    "\n",
    "# Vector overlay\n",
    "gdf.plot(ax=plt.gca(), facecolor='none', edgecolor='red', linewidth=1)\n",
    "plt.title('Raster with Vector Overlay')\n",
    "plt.show()"
   ]
  },
  {
   "cell_type": "markdown",
   "id": "64b3a95a",
   "metadata": {},
   "source": [
    "## 4. Interactive Map with Folium\n",
    "\n",
    "Folium ব্যবহার করে interactive map তৈরি করা।"
   ]
  },
  {
   "cell_type": "code",
   "execution_count": null,
   "id": "da7e213f",
   "metadata": {},
   "outputs": [],
   "source": [
    "import folium\n",
    "\n",
    "# Center coordinate example\n",
    "center = [gdf.geometry.y.mean(), gdf.geometry.x.mean()]\n",
    "\n",
    "# Map তৈরি\n",
    "m = folium.Map(location=center, zoom_start=12)\n",
    "\n",
    "# GeoDataFrame add\n",
    "folium.GeoJson(gdf).add_to(m)\n",
    "\n",
    "# Map show\n",
    "m"
   ]
  },
  {
   "cell_type": "markdown",
   "id": "eec4d0c9",
   "metadata": {},
   "source": [
    "**পরের পর্বে আমরা জানবো:**  \n",
    "Time Series Analysis: NDVI বা অন্যান্য vegetation indices এর temporal patterns বিশ্লেষণ করা এবং trend detection করা।"
   ]
  }
 ],
 "metadata": {
  "language_info": {
   "name": "python"
  }
 },
 "nbformat": 4,
 "nbformat_minor": 5
}
