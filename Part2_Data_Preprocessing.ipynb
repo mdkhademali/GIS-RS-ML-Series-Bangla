{
 "cells": [
  {
   "cell_type": "markdown",
   "id": "ae2b6393",
   "metadata": {},
   "source": [
    "**Md. Khadem Ali**  \n",
    "Student, Dept. of Geography & Environment  \n",
    "Shahid M. Mansur Ali College (Affiliated with National University of Bangladesh)  \n",
    "\n",
    "[Portfolio: www.khademali.com](http://www.khademali.com)"
   ]
  },
  {
   "cell_type": "markdown",
   "id": "80373a17",
   "metadata": {},
   "source": [
    "## পর্ব ২: Data Preprocessing\n",
    "\n",
    "এই নোটবুকে আমরা শিখব:\n",
    "1. ভেক্টর ও রাষ্টারের ডেটা ক্লিনিং\n",
    "2. CRS পরিবর্তন\n",
    "3. Missing data হ্যান্ডেল\n",
    "4. Normalization / Scaling\n",
    "5. Train-test split"
   ]
  },
  {
   "cell_type": "markdown",
   "id": "44460a32",
   "metadata": {},
   "source": [
    "## 1. CRS পরিবর্তন (Coordinate Reference System)\n",
    "\n",
    "GeoDataFrame এর CRS চেক ও পরিবর্তন করা।"
   ]
  },
  {
   "cell_type": "code",
   "execution_count": null,
   "id": "908f0e3e",
   "metadata": {},
   "outputs": [],
   "source": [
    "import geopandas as gpd\n",
    "\n",
    "# উদাহরণ শেপফাইল লোড\n",
    "gdf = gpd.read_file('data/sample_shapefile.shp')\n",
    "\n",
    "# CRS চেক করা\n",
    "print(gdf.crs)\n",
    "\n",
    "# CRS পরিবর্তন করা (EPSG:4326)\n",
    "gdf = gdf.to_crs(epsg=4326)\n",
    "print(gdf.crs)"
   ]
  },
  {
   "cell_type": "markdown",
   "id": "a7f034a3",
   "metadata": {},
   "source": [
    "## 2. Missing Data Handling\n",
    "\n",
    "GeoDataFrame এ missing values চেক এবং পূরণ।"
   ]
  },
  {
   "cell_type": "code",
   "execution_count": null,
   "id": "3f67c94e",
   "metadata": {},
   "outputs": [],
   "source": [
    "# Missing data চেক করা\n",
    "print(gdf.isnull().sum())\n",
    "\n",
    "# Missing values পূরণ (যদি থাকে)\n",
    "gdf['column_name'] = gdf['column_name'].fillna(0)"
   ]
  },
  {
   "cell_type": "markdown",
   "id": "e5666f6a",
   "metadata": {},
   "source": [
    "## 3. Raster ডেটা থেকে pixel value extract করা\n",
    "\n",
    "Rasterio ব্যবহার করে pixel values GeoDataFrame এর সাথে merge করা।"
   ]
  },
  {
   "cell_type": "code",
   "execution_count": null,
   "id": "2dc11128",
   "metadata": {},
   "outputs": [],
   "source": [
    "import rasterio\n",
    "import numpy as np\n",
    "\n",
    "raster = rasterio.open('data/sample_raster.tif')\n",
    "\n",
    "# GeoDataFrame থেকে coordinates নিয়ে pixel values extract\n",
    "coords = [(x, y) for x, y in zip(gdf.geometry.x, gdf.geometry.y)]\n",
    "pixel_values = [val[0] for val in raster.sample(coords)]\n",
    "\n",
    "# GeoDataFrame এ যোগ করা\n",
    "gdf['pixel_value'] = pixel_values\n",
    "gdf.head()"
   ]
  },
  {
   "cell_type": "markdown",
   "id": "792241c7",
   "metadata": {},
   "source": [
    "## 4. Normalization / Scaling\n",
    "\n",
    "Scikit-learn ব্যবহার করে feature scaling।"
   ]
  },
  {
   "cell_type": "code",
   "execution_count": null,
   "id": "6164083a",
   "metadata": {},
   "outputs": [],
   "source": [
    "from sklearn.preprocessing import StandardScaler\n",
    "\n",
    "scaler = StandardScaler()\n",
    "gdf[['pixel_value_scaled']] = scaler.fit_transform(gdf[['pixel_value']])\n",
    "gdf.head()"
   ]
  },
  {
   "cell_type": "markdown",
   "id": "eee162b9",
   "metadata": {},
   "source": [
    "## 5. Train-Test Split\n",
    "\n",
    "ডেটা মেশিন লার্নিং মডেলের জন্য train এবং test এ ভাগ করা।"
   ]
  },
  {
   "cell_type": "code",
   "execution_count": null,
   "id": "3ea2a0f1",
   "metadata": {},
   "outputs": [],
   "source": [
    "from sklearn.model_selection import train_test_split\n",
    "\n",
    "X = gdf[['pixel_value_scaled']]\n",
    "y = gdf['target_column']  # উদাহরণ target column\n",
    "\n",
    "X_train, X_test, y_train, y_test = train_test_split(X, y, test_size=0.3, random_state=42)\n",
    "print(X_train.shape, X_test.shape)"
   ]
  },
  {
   "cell_type": "markdown",
   "id": "5fa4119f",
   "metadata": {},
   "source": [
    "**পরের পর্বে আমরা জানবো:**  \n",
    "Basic machine learning models: Linear Regression, Logistic Regression, Decision Tree, এবং Random Forest ব্যবহার করে কিভাবে প্রজেক্ট শুরু করতে হয়।"
   ]
  }
 ],
 "metadata": {
  "language_info": {
   "name": "python"
  }
 },
 "nbformat": 4,
 "nbformat_minor": 5
}
